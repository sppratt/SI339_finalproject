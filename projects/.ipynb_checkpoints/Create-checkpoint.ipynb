{
 "cells": [
  {
   "cell_type": "code",
   "execution_count": 1,
   "metadata": {},
   "outputs": [],
   "source": [
    "import random as r"
   ]
  },
  {
   "cell_type": "code",
   "execution_count": 2,
   "metadata": {},
   "outputs": [],
   "source": [
    "commands1 = [\"Sami says stand on one foot.\", \n",
    "        \"Sami says clap your hands.\", \n",
    "        \"Sami says touch your nose.\", \n",
    "        \"Sami says snap your fingers.\", \n",
    "        \"Sami says wave your right hand.\", \n",
    "        \"Raise your left hand.\",\n",
    "        \"Touch your elbow.\", \n",
    "        \"Turn around.\", \n",
    "        \"Stomp your feet.\",\n",
    "        \"Touch your toes.\"]\n",
    "\n",
    "commands2 = [\"Sami says jump in place.\",\n",
    "        \"Sami says don't clap your hands.\",\n",
    "        \"Sami says touch your nose.\",\n",
    "        \"Sami says don't open your mouth.\",\n",
    "        \"Sami says touch your ear.\",\n",
    "        \"Don't stand on both feet.\",\n",
    "        \"Raise your right hand.\",\n",
    "        \"Snap your fingers.\",\n",
    "        \"Don't touch your toes.\",\n",
    "        \"Close your eyes.\"]\n",
    "def instruct1():\n",
    "    \"\"\"Repeats the process of randomizing a command from the first command list\n",
    "    Adds points if the user determines they followed Sami's direction correctly\"\"\"\n",
    "    points = 0\n",
    "    x = int(input(\"How many rounds do you want to play? 1-10?\\n\"))\n",
    "    for i in range(x):\n",
    "        a = r.randint(0,9)\n",
    "        print(commands1[a])\n",
    "        b = input(\"Did you follow Sami's command correctly? Yes or No?\\n\")\n",
    "        if b == \"Yes\":\n",
    "            points += 1\n",
    "            print(\"Great work!\\n\")\n",
    "        elif b == \"No\":\n",
    "            print(\"Aw better luck next time!\\n\")\n",
    "    print(\"Thanks for playing! Your score for round 1 is:\", points, \"\\n\")\n",
    "    \n",
    "def instruct2():\n",
    "    \"\"\"Repeats the process of randomizing a command from the second command list\n",
    "    Adds points if the user determines they followed Sami's direction correctly\"\"\"\n",
    "    points = 0\n",
    "    x = int(input(\"How many more rounds would you like to play? 1-10?\\n\"))\n",
    "    for i in range(x):\n",
    "        a = r.randint(0,9)\n",
    "        print(commands2[a])\n",
    "        b = input(\"Did you follow Sami's command correctly this round? Yes or No?\\n\")\n",
    "        if b == \"Yes\":\n",
    "            points += 1\n",
    "            print(\"Awesome job!\\n\")\n",
    "        elif b == \"No\":\n",
    "            print(\"Bummer, make sure you pay very close attention!\\n\")\n",
    "    print(\"Thanks for playing! You finished the game. Your score for round 2 is:\", points)\n",
    "            \n",
    "def guide1():\n",
    "    \"\"\"Guides the user to play a second round or end the game\"\"\"\n",
    "    c = input(\"Would you like to play again? Yes or No?\\n\")\n",
    "    if c == \"Yes\":\n",
    "        print(\"This level is going to be a little bit trickier!\\n\")\n",
    "        instruct2()\n",
    "    elif c == \"No\":\n",
    "        print(\"Okay. Thanks for playing!\")   \n",
    "\n",
    "def level_progress():\n",
    "    \"\"\"Uses guide1 function to repeat the instruction of guiding the user in case \n",
    "    the user enters an unrecognizable input and progresses to the next level\"\"\"\n",
    "    c = input(\"Would you like to play again? Yes or No?\\n\")\n",
    "    if c == \"Yes\":\n",
    "        print(\"This level is going to be a little bit trickier!\\n\")\n",
    "        instruct2()\n",
    "    elif c == \"No\":\n",
    "        print(\"Okay. Thanks for playing!\")\n",
    "    else:\n",
    "        print(\"I can't understand your message make sure you answer with Yes or No.\\n\")\n",
    "        guide1()"
   ]
  },
  {
   "cell_type": "code",
   "execution_count": null,
   "metadata": {},
   "outputs": [
    {
     "name": "stdout",
     "output_type": "stream",
     "text": [
      "Welcome to Sami Says: a fun virtual twist on the classic game known as Simon Says.\n",
      "I am your leader, Sami, and you must do only as I say to win!\n",
      "How many rounds do you want to play? 1-10?\n",
      "1\n",
      "Sami says snap your fingers.\n",
      "Did you follow Sami's command correctly? Yes or No?\n",
      "yes\n",
      "Thanks for playing! Your score for round 1 is: 0 \n",
      "\n"
     ]
    }
   ],
   "source": [
    "def simon():\n",
    "    \"\"\"Function that begins the game by giving an introduction\n",
    "    Uses the functions above to run through the game\"\"\"\n",
    "    print(\"Welcome to Sami Says: a fun virtual twist on the classic game known as Simon Says.\\nI am your leader, Sami, and you must do only as I say to win!\")\n",
    "    instruct1()\n",
    "    level_progress()\n",
    "    \n",
    "simon()"
   ]
  },
  {
   "cell_type": "code",
   "execution_count": null,
   "metadata": {},
   "outputs": [],
   "source": []
  },
  {
   "cell_type": "code",
   "execution_count": null,
   "metadata": {},
   "outputs": [],
   "source": []
  }
 ],
 "metadata": {
  "kernelspec": {
   "display_name": "Python 3 (ipykernel)",
   "language": "python",
   "name": "python3"
  },
  "language_info": {
   "codemirror_mode": {
    "name": "ipython",
    "version": 3
   },
   "file_extension": ".py",
   "mimetype": "text/x-python",
   "name": "python",
   "nbconvert_exporter": "python",
   "pygments_lexer": "ipython3",
   "version": "3.7.6"
  }
 },
 "nbformat": 4,
 "nbformat_minor": 2
}
